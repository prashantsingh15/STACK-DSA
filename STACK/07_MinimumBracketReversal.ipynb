{
 "cells": [
  {
   "cell_type": "code",
   "execution_count": 1,
   "metadata": {},
   "outputs": [
    {
     "name": "stdout",
     "output_type": "stream",
     "text": [
      "-1\n"
     ]
    }
   ],
   "source": [
    "def check(string):\n",
    "    s=[]\n",
    "    if len(string)%2 != 0:\n",
    "        return -1\n",
    "    else:\n",
    "        for i in string:\n",
    "            if i =='}' and len(s)!=0:\n",
    "                j=s[-1]\n",
    "                if j == '{':\n",
    "                    s.pop()\n",
    "                else:\n",
    "                    s.append(i)\n",
    "            elif i=='}' and len(s)==0:\n",
    "                s.append(i)\n",
    "            else:\n",
    "                s.append(i)\n",
    "    c=0\n",
    "    while s:\n",
    "        c1=s[-1]\n",
    "        s.pop()\n",
    "        c2=s[-1]\n",
    "        s.pop()\n",
    "        if c1==c2:\n",
    "            c+=1\n",
    "        elif c1== '{' and c2 =='}':\n",
    "            c+=2\n",
    "        else:\n",
    "            c+=1\n",
    "        \n",
    "    return c\n",
    "str=input()\n",
    "ans=check(str)\n",
    "print(ans)"
   ]
  }
 ],
 "metadata": {
  "kernelspec": {
   "display_name": "base",
   "language": "python",
   "name": "python3"
  },
  "language_info": {
   "codemirror_mode": {
    "name": "ipython",
    "version": 3
   },
   "file_extension": ".py",
   "mimetype": "text/x-python",
   "name": "python",
   "nbconvert_exporter": "python",
   "pygments_lexer": "ipython3",
   "version": "3.9.13"
  },
  "orig_nbformat": 4,
  "vscode": {
   "interpreter": {
    "hash": "19e3ed3879c13a0a3709fc77aecbc5c79d8539dfda6d4462a1c416bc4ea67350"
   }
  }
 },
 "nbformat": 4,
 "nbformat_minor": 2
}

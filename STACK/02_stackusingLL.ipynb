{
 "cells": [
  {
   "cell_type": "code",
   "execution_count": 11,
   "metadata": {},
   "outputs": [],
   "source": [
    "class Node:\n",
    "    def __init__(self,initData):\n",
    "        self.data=initData\n",
    "        self.next=None\n",
    "\n",
    "class Stack:\n",
    "    def __init__(self) -> None:\n",
    "        self.head=None\n",
    "        self.count=0\n",
    "\n",
    "    def push(self,element):\n",
    "        newNode=Node(element)\n",
    "        newNode.next=self.head\n",
    "        self.head=newNode\n",
    "        self.count=self.count+1\n",
    "\n",
    "\n",
    "    def pop(self):\n",
    "        if self.isEmpty() is True:\n",
    "            print(\"hey Stack Is empty !!\")\n",
    "            return \n",
    "\n",
    "\n",
    "        data=self.head.data\n",
    "        self.head=self.head.next\n",
    "        self.count=self.count-1\n",
    "\n",
    "        return data\n",
    "\n",
    "\n",
    "    def top(self):\n",
    "        if self.isEmpty() is True:\n",
    "           print(\"HeyDude stack Is empty !!\")\n",
    "           return \n",
    "        data=self.head.data\n",
    "        return data \n",
    "\n",
    "    def size(self):\n",
    "        return self.count\n",
    "\n",
    "    def isEmpty(self):\n",
    "        return self.size()==0"
   ]
  },
  {
   "cell_type": "code",
   "execution_count": 13,
   "metadata": {},
   "outputs": [
    {
     "name": "stdout",
     "output_type": "stream",
     "text": [
      "15\n",
      "14\n",
      "13\n",
      "12\n",
      "HeyDude stack Is empty !!\n"
     ]
    }
   ],
   "source": [
    "s=Stack()\n",
    "s.push(12)\n",
    "s.push(13)\n",
    "s.push(14)\n",
    "s.push(15)\n",
    "while s.isEmpty() is False:\n",
    "    print(s.pop())\n",
    "\n",
    "s.top()\n"
   ]
  }
 ],
 "metadata": {
  "kernelspec": {
   "display_name": "base",
   "language": "python",
   "name": "python3"
  },
  "language_info": {
   "codemirror_mode": {
    "name": "ipython",
    "version": 3
   },
   "file_extension": ".py",
   "mimetype": "text/x-python",
   "name": "python",
   "nbconvert_exporter": "python",
   "pygments_lexer": "ipython3",
   "version": "3.9.13 (main, Aug 25 2022, 23:51:50) [MSC v.1916 64 bit (AMD64)]"
  },
  "orig_nbformat": 4,
  "vscode": {
   "interpreter": {
    "hash": "19e3ed3879c13a0a3709fc77aecbc5c79d8539dfda6d4462a1c416bc4ea67350"
   }
  }
 },
 "nbformat": 4,
 "nbformat_minor": 2
}

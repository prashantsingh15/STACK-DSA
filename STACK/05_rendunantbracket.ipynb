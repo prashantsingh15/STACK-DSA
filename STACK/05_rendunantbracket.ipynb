{
 "cells": [
  {
   "cell_type": "code",
   "execution_count": null,
   "metadata": {},
   "outputs": [],
   "source": [
    "from sys import stdin\n",
    "def checkRedundantBrackets(expression) :\n",
    "\t\n",
    "\t\n",
    "\tst = []\n",
    "\n",
    "\t\n",
    "\tfor ch in expression:\n",
    "\n",
    "\t\t\n",
    "\t\t\n",
    "\t\tif (ch == ')'):\n",
    "\t\t\ttop = st[-1]\n",
    "\t\t\tst.pop()\n",
    "\n",
    "\t\t\t\n",
    "\t\t\tflag = True\n",
    "\n",
    "\t\t\twhile (top != '('):\n",
    "\n",
    "\t\t\t\t\n",
    "\t\t\t\tif (top == '+' or top == '-' or\n",
    "\t\t\t\t\ttop == '*' or top == '/'):\n",
    "\t\t\t\t\tflag = False\n",
    "\n",
    "\t\t\t\t\n",
    "\t\t\t\ttop = st[-1]\n",
    "\t\t\t\tst.pop()\n",
    "\n",
    "\t\t\t\n",
    "\t\t\tif (flag == True):\n",
    "\t\t\t\treturn True\n",
    "\n",
    "\t\telse:\n",
    "\t\t\tst.append(ch) \n",
    "\t\t\t\t\t\t\n",
    "\treturn False\n",
    "#main\n",
    "expression = stdin.readline().strip()\n",
    "\n",
    "if checkRedundantBrackets(expression) :\n",
    "\tprint(\"true\")\n",
    "\n",
    "else :\n",
    "\tprint(\"false\")"
   ]
  }
 ],
 "metadata": {
  "kernelspec": {
   "display_name": "base",
   "language": "python",
   "name": "python3"
  },
  "language_info": {
   "codemirror_mode": {
    "name": "ipython",
    "version": 3
   },
   "file_extension": ".py",
   "mimetype": "text/x-python",
   "name": "python",
   "nbconvert_exporter": "python",
   "pygments_lexer": "ipython3",
   "version": "3.9.13"
  },
  "orig_nbformat": 4,
  "vscode": {
   "interpreter": {
    "hash": "19e3ed3879c13a0a3709fc77aecbc5c79d8539dfda6d4462a1c416bc4ea67350"
   }
  }
 },
 "nbformat": 4,
 "nbformat_minor": 2
}
